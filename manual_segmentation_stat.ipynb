{
 "cells": [
  {
   "cell_type": "code",
   "execution_count": 2,
   "metadata": {
    "collapsed": false
   },
   "outputs": [
    {
     "name": "stdout",
     "output_type": "stream",
     "text": [
      "total number of cases: 285\n",
      "total number of segmented cases: 72\n",
      "total number of needles: 2949\n",
      "total number of manual segmentations: 583\n",
      "segmentation percentage: 0.19769413360461174\n",
      "total missing number: 2366\n"
     ]
    },
    {
     "ename": "NameError",
     "evalue": "name 'msno' is not defined",
     "output_type": "error",
     "traceback": [
      "\u001b[0;31m---------------------------------------------------------------------------\u001b[0m",
      "\u001b[0;31mNameError\u001b[0m                                 Traceback (most recent call last)",
      "\u001b[0;32m<ipython-input-2-f1bee3523caf>\u001b[0m in \u001b[0;36m<module>\u001b[0;34m()\u001b[0m\n\u001b[1;32m     44\u001b[0m     \u001b[0mneedle_matrix\u001b[0m \u001b[0;34m=\u001b[0m \u001b[0mpd\u001b[0m\u001b[0;34m.\u001b[0m\u001b[0mDataFrame\u001b[0m\u001b[0;34m(\u001b[0m\u001b[0mneedle_matrix\u001b[0m\u001b[0;34m)\u001b[0m\u001b[0;34m.\u001b[0m\u001b[0mreplace\u001b[0m\u001b[0;34m(\u001b[0m\u001b[0;34m{\u001b[0m\u001b[0;32mFalse\u001b[0m\u001b[0;34m:\u001b[0m \u001b[0;32mNone\u001b[0m\u001b[0;34m}\u001b[0m\u001b[0;34m)\u001b[0m\u001b[0;34m\u001b[0m\u001b[0m\n\u001b[1;32m     45\u001b[0m     \u001b[0mmissing_matrix\u001b[0m \u001b[0;34m=\u001b[0m \u001b[0mpd\u001b[0m\u001b[0;34m.\u001b[0m\u001b[0mDataFrame\u001b[0m\u001b[0;34m(\u001b[0m\u001b[0mmissing_matrix\u001b[0m\u001b[0;34m)\u001b[0m\u001b[0;34m.\u001b[0m\u001b[0mreplace\u001b[0m\u001b[0;34m(\u001b[0m\u001b[0;34m{\u001b[0m\u001b[0;32mFalse\u001b[0m\u001b[0;34m:\u001b[0m \u001b[0;32mNone\u001b[0m\u001b[0;34m}\u001b[0m\u001b[0;34m)\u001b[0m\u001b[0;34m\u001b[0m\u001b[0m\n\u001b[0;32m---> 46\u001b[0;31m     \u001b[0mmsno\u001b[0m\u001b[0;34m.\u001b[0m\u001b[0mmatrix\u001b[0m\u001b[0;34m(\u001b[0m\u001b[0mneedle_matrix\u001b[0m\u001b[0;34m)\u001b[0m\u001b[0;34m\u001b[0m\u001b[0m\n\u001b[0m\u001b[1;32m     47\u001b[0m     \u001b[0mmsno\u001b[0m\u001b[0;34m.\u001b[0m\u001b[0mmatrix\u001b[0m\u001b[0;34m(\u001b[0m\u001b[0mmanual_matrix\u001b[0m\u001b[0;34m)\u001b[0m\u001b[0;34m\u001b[0m\u001b[0m\n\u001b[1;32m     48\u001b[0m     \u001b[0mmsno\u001b[0m\u001b[0;34m.\u001b[0m\u001b[0mmatrix\u001b[0m\u001b[0;34m(\u001b[0m\u001b[0mmissing_matrix\u001b[0m\u001b[0;34m)\u001b[0m\u001b[0;34m\u001b[0m\u001b[0m\n",
      "\u001b[0;31mNameError\u001b[0m: name 'msno' is not defined"
     ]
    }
   ],
   "source": [
    "import numpy as np\n",
    "import os\n",
    "#import missingno as msno\n",
    "import pandas as pd\n",
    "\n",
    "from project.utils import DataUtil\n",
    "from project.settings import cases_root\n",
    "\n",
    "\n",
    "def get_needle_path_in_manual_folder(path):\n",
    "    path_list = path.split(os.sep)\n",
    "    case_number = int(path_list[-3][4:])\n",
    "    needle_number = int(path_list[-1][:-12])\n",
    "    manaul_path = os.path.join(*path_list[:-2])\n",
    "    manaul_path = os.path.join('/', manaul_path, 'Manual_AZ', str(needle_number), path_list[-1])\n",
    "    return manaul_path, case_number, needle_number\n",
    "\n",
    "if __name__ == '__main__':\n",
    "    du = DataUtil(cases_root)\n",
    "    print(\"total number of cases: {}\".format(len(du.intraop_folders)))\n",
    "    print(\"total number of segmented cases: {}\".format(len(du.manual_az_folders)))\n",
    "    needle_vols = du.get_needle_vol_files()\n",
    "    needle_vols_2 = du.get_needle_vol_files_with_manual_needle_segmentation()\n",
    "    print(\"total number of needles: {}\".format(len(needle_vols)))\n",
    "    print(\"total number of manual segmentations: {}\".format(len(needle_vols_2)))\n",
    "    print(\"segmentation percentage: {}\".format(len(needle_vols_2)/(len(needle_vols))))\n",
    "\n",
    "    needle_matrix = np.zeros((300,40))\n",
    "    manual_matrix = np.zeros((300,40))\n",
    "    done = 0\n",
    "    missing_number = 0\n",
    "    for needle_vol in needle_vols:\n",
    "        manual_path, case_number, needle_number = get_needle_path_in_manual_folder(needle_vol)\n",
    "        if os.path.isfile(needle_vol):\n",
    "            needle_matrix[case_number, needle_number] = 1\n",
    "        if os.path.isfile(manual_path):\n",
    "            manual_matrix[case_number, needle_number] = 1\n",
    "            done += 1\n",
    "        if os.path.isfile(needle_vol) and not os.path.isfile(manual_path):\n",
    "            missing_number += 1\n",
    "    print(\"total missing number: {}\".format(missing_number))\n",
    "    missing_matrix = needle_matrix - manual_matrix\n",
    "    manual_matrix = pd.DataFrame(manual_matrix).replace({False: None})\n",
    "    needle_matrix = pd.DataFrame(needle_matrix).replace({False: None})\n",
    "    missing_matrix = pd.DataFrame(missing_matrix).replace({False: None})\n",
    "    msno.matrix(needle_matrix)\n",
    "    msno.matrix(manual_matrix)\n",
    "    msno.matrix(missing_matrix)\n",
    "\n",
    "    print('done.')\n",
    "\n"
   ]
  },
  {
   "cell_type": "code",
   "execution_count": null,
   "metadata": {
    "collapsed": true
   },
   "outputs": [],
   "source": []
  }
 ],
 "metadata": {
  "anaconda-cloud": {},
  "kernelspec": {
   "display_name": "Python [default]",
   "language": "python",
   "name": "python3"
  },
  "language_info": {
   "codemirror_mode": {
    "name": "ipython",
    "version": 3
   },
   "file_extension": ".py",
   "mimetype": "text/x-python",
   "name": "python",
   "nbconvert_exporter": "python",
   "pygments_lexer": "ipython3",
   "version": "3.5.2"
  }
 },
 "nbformat": 4,
 "nbformat_minor": 2
}
